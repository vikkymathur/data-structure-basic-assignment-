{
 "cells": [
  {
   "cell_type": "code",
   "execution_count": 4,
   "id": "bf3c5785-dff3-406a-b77d-f82d989c5e9c",
   "metadata": {},
   "outputs": [
    {
     "name": "stdout",
     "output_type": "stream",
     "text": [
      "Hallo\n",
      "world\n",
      "Hallo\n",
      "world\n",
      "Hlowrd\n",
      "dlrow ollaH\n"
     ]
    }
   ],
   "source": [
    "# 1 Discuss string slicing and provide example\n",
    "\n",
    "# Ans- String slicing is a method which allows as to create substring for given string by specifying the start and end index \n",
    "\n",
    "# syntx-  string[start:end:stap]\n",
    "# example\n",
    "\n",
    "s = 'Hallo world'\n",
    "print(s[0:5])     # Output: Hello\n",
    "print(s[6:12])    # Output: World\n",
    "print(s[:5])      # Output: Hello\n",
    "print(s[6:])      # Output: World!\n",
    "print(s[::2])     # Output: Hlo ol!\n",
    "print(s[::-1])    # Output: !dlroW ,olleH"
   ]
  },
  {
   "cell_type": "code",
   "execution_count": 7,
   "id": "fcba2900-df4e-4d23-86d2-b5c9dfb1fdb6",
   "metadata": {},
   "outputs": [
    {
     "name": "stdout",
     "output_type": "stream",
     "text": [
      "[1, 2, 3, 'a', 'b', 'c']\n",
      "[1, 2, 3, 'a', 'b', 'c', 4]\n",
      "[1, 3, 'a', 'b', 'c', 4]\n"
     ]
    }
   ],
   "source": [
    "#Q2 Explain the key features of list in python \n",
    "\n",
    "# ANs-\n",
    "    # Lists are ordered collections.\n",
    "    # They are mutable, meaning elements can be changed.\n",
    "    # They can contain elements of different data types.\n",
    "    # They support indexing and slicing.\n",
    "    # Lists have various built-in methods like append(), remove(), pop(), sort(), etc.\n",
    "#Example-\n",
    "    \n",
    "l = [1, 2, 3, 'a', 'b', 'c']\n",
    "print(l)        # Output: [1, 2, 3, 'a', 'b', 'c']\n",
    "l.append(4)\n",
    "print(l)        # Output: [1, 2, 3, 'a', 'b', 'c', 4]\n",
    "\n",
    "l.remove(2)\n",
    "print(l)       # Output: [1, 3, 'a', 'b', 'c', 4]\n"
   ]
  },
  {
   "cell_type": "code",
   "execution_count": 30,
   "id": "081ecc12-653e-4039-9617-90edf4a17c1f",
   "metadata": {},
   "outputs": [
    {
     "name": "stdout",
     "output_type": "stream",
     "text": [
      "[10, 39, 29, 89, 90, 81]\n",
      "[10, 39, 89, 90, 81]\n",
      "[10, 39, 90, 81]\n",
      "[10, 39, 90]\n"
     ]
    }
   ],
   "source": [
    "#Q3  Describe how to access modify and delete elements in a list with examples.\n",
    "# Ans- \n",
    "     \n",
    "    #For access the element use Index \n",
    "    # for modify the element use index and assign an new value\n",
    "    # for delete any element use delete ,remove and pop\n",
    "    \n",
    "#Example \n",
    "    \n",
    "mylist =[10,39,29,89,90,34]\n",
    "\n",
    "mylist[1]             #Output: 39\n",
    "\n",
    "mylist[5] = 81\n",
    "print(mylist)        #Output: [10, 39, 29, 89, 90, 81]\n",
    "\n",
    "del mylist[2]\n",
    "print(mylist)       #Output: [10, 39, 89, 90, 81]\n",
    "\n",
    "mylist.remove(89)\n",
    "print(mylist)       #Output:  [10, 39, 90, 81]\n",
    "\n",
    "mylist.pop()\n",
    "print(mylist)      #Output: [10, 39, 90]"
   ]
  },
  {
   "cell_type": "code",
   "execution_count": 31,
   "id": "9b7d502e-70d8-4802-bc02-dc884433f87d",
   "metadata": {},
   "outputs": [
    {
     "name": "stdout",
     "output_type": "stream",
     "text": [
      "[10, 2, 3]\n"
     ]
    }
   ],
   "source": [
    "#Q4 Compare and contrast tuples and lists with examples.\n",
    "\n",
    "#Ans- \n",
    "\n",
    "#Lists are mutable; tuples are immutable.\n",
    "#Lists are defined with square brackets []; tuples with parentheses ().\n",
    "\n",
    "#Example\n",
    "\n",
    "mylist = [1, 2, 3]\n",
    "mytuple = (1, 2, 3)\n",
    "mylist[0] = 10        # Lists can be modified\n",
    "print(mylist)         # Output: [10, 2, 3]\n",
    "# my_tuple[0] = 10     # Tuples cannot be modified; this will raise an error\n"
   ]
  },
  {
   "cell_type": "code",
   "execution_count": 32,
   "id": "8ca67027-67bd-4626-92e1-98a29142cb60",
   "metadata": {},
   "outputs": [
    {
     "name": "stdout",
     "output_type": "stream",
     "text": [
      "{1, 2, 3, 4, 5}\n",
      "{1, 2, 3, 4, 5, 6}\n",
      "{1, 2, 3, 4, 5, 6, 7}\n",
      "{4, 5, 6}\n"
     ]
    }
   ],
   "source": [
    "# Q5 Describe the key features of sets and provide examples of their use\n",
    "# Ans-\n",
    "\n",
    "# sets are collection of unique element\n",
    "# it has unordered element \n",
    "# it dont have any indexses\n",
    "# They support mathematical operations like union, intersection, and difference.\n",
    "\n",
    "#example-\n",
    "\n",
    "my_set = {1, 2, 3, 4, 4, 5}\n",
    "print(my_set)         # Output: {1, 2, 3, 4, 5} (duplicates removed)\n",
    "my_set.add(6)\n",
    "print(my_set)         # Output: {1, 2, 3, 4, 5, 6}\n",
    "another_set = {4, 5, 6, 7}\n",
    "print(my_set.union(another_set))         # Output: {1, 2, 3, 4, 5, 6, 7}\n",
    "print(my_set.intersection(another_set))  # Output: {4, 5, 6}\n",
    "\n"
   ]
  },
  {
   "cell_type": "code",
   "execution_count": 2,
   "id": "0ae2ddb8-2079-49d5-bc13-e0a563b22df3",
   "metadata": {},
   "outputs": [
    {
     "name": "stdout",
     "output_type": "stream",
     "text": [
      "(10.0, 20.0)\n",
      "(1, 'a', True)\n",
      "{1, 2, 3, 4, 5}\n"
     ]
    }
   ],
   "source": [
    "#Q6 Discuss the use cases of tuples and sets in Python programming.\n",
    "# Ans-\n",
    "\n",
    "# Tuples - Tuples: Used for fixed collections of items, ensuring immutability. Useful for dictionary keys, function arguments, and returning multiple values from a function.\n",
    "\n",
    "# Sets - Used for collections of unique items. Useful for membership tests, removing duplicates from a collection, and performing set operations like union, intersection, and difference.\n",
    "\n",
    "#Tuples example\n",
    "coordinates = (10.0, 20.0)\n",
    "print(coordinates)    # Output: (10.0, 20.0)\n",
    "\n",
    "def return_multi_values():\n",
    "    return (1, 'a', True)\n",
    "\n",
    "print(return_multi_values())  # Output: (1, 'a', True)\n",
    "\n",
    "\n",
    "# Set example\n",
    "\n",
    "numbers = [1, 2, 2, 3, 4, 4, 5]\n",
    "unique_numbers = set(numbers)\n",
    "print(unique_numbers)  # Output: {1, 2, 3, 4, 5}\n",
    "\n",
    "\n"
   ]
  },
  {
   "cell_type": "code",
   "execution_count": 17,
   "id": "b00f053a-f09b-4d74-80c8-007887d807c3",
   "metadata": {},
   "outputs": [
    {
     "name": "stdout",
     "output_type": "stream",
     "text": [
      "{'ram': 14, 'shyam': 18, 'rahul': 19, 'vikky': 20}\n",
      "{'ram': 14, 'shyam': 23, 'rahul': 19, 'vikky': 20}\n",
      "{'shyam': 23, 'rahul': 19, 'vikky': 20}\n",
      "{'shyam': 23, 'vikky': 20}\n"
     ]
    }
   ],
   "source": [
    "# Q7  Describe how to add modify and delete items in a dictionary with examples.\n",
    "dic = {'ram' : 14,'shyam':18,'rahul':19}\n",
    "\n",
    "dic['vikky']= 20                   # Add\n",
    "print(dic)                         #output: {'ram': 14, 'shyam': 18, 'rahul': 19, 'vikky': 20}\n",
    "\n",
    "dic['shyam'] = 23                  # modify\n",
    "print(dic)                        #output: {'ram': 14, 'shyam': 23, 'rahul': 19, 'vikky': 20}\n",
    "\n",
    "del dic['ram']                    # delete\n",
    "print(dic)                        # output: {'shyam': 23, 'rahul': 19, 'vikky': 20}\n",
    "\n",
    "dic.pop('rahul')                  # pop(delete)\n",
    "print(dic)                        # output: {'shyam': 23, 'vikky': 20}\n",
    "\n"
   ]
  },
  {
   "cell_type": "code",
   "execution_count": null,
   "id": "3f8ff504-7868-411b-a4ed-1ab50230c8e0",
   "metadata": {},
   "outputs": [],
   "source": [
    "# Q8  Discuss the importance of dictionary keys being immutable and provide examples.\n"
   ]
  }
 ],
 "metadata": {
  "kernelspec": {
   "display_name": "Python 3 (ipykernel)",
   "language": "python",
   "name": "python3"
  },
  "language_info": {
   "codemirror_mode": {
    "name": "ipython",
    "version": 3
   },
   "file_extension": ".py",
   "mimetype": "text/x-python",
   "name": "python",
   "nbconvert_exporter": "python",
   "pygments_lexer": "ipython3",
   "version": "3.10.8"
  }
 },
 "nbformat": 4,
 "nbformat_minor": 5
}
